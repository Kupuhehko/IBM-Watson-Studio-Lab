{
 "cells": [
  {
   "cell_type": "markdown",
   "id": "4dfcd85b",
   "metadata": {},
   "source": [
    "# My Jupyter Notebook on IBM Watson Studio"
   ]
  },
  {
   "cell_type": "markdown",
   "id": "eb40728f",
   "metadata": {},
   "source": [
    "<b> Ivan Akulovich </b> <br>\n",
    "I am a project manager at one of the logistic companies"
   ]
  },
  {
   "cell_type": "markdown",
   "id": "5c3d6adb",
   "metadata": {},
   "source": [
    "<i> I'm interested in data science because I love statistics and working with data. I believe that this is the way for me to contribute more in my company's success. I'd also like in the future to contribute in such important fields as medicine or bio science as these are the most interesting for me. </i>"
   ]
  },
  {
   "cell_type": "markdown",
   "id": "0d5b8d81",
   "metadata": {},
   "source": [
    "### My code is very simple. It calculates the sum of two numbers and then prints the result."
   ]
  },
  {
   "cell_type": "code",
   "execution_count": 1,
   "id": "a1abb377",
   "metadata": {},
   "outputs": [
    {
     "name": "stdout",
     "output_type": "stream",
     "text": [
      "the result is  5\n"
     ]
    }
   ],
   "source": [
    "a = 2 + 3\n",
    "print(\"the result is \",a)"
   ]
  },
  {
   "cell_type": "markdown",
   "id": "9b869330",
   "metadata": {},
   "source": [
    "<ul style=\"list-style-type:disc\">\n",
    "    <li>this is</li>\n",
    "    <li>bulleted</li>\n",
    "    <li>list</li>\n",
    "   </ul> <br>\n",
    " <table>\n",
    "    <tr>\n",
    "        <th>this</th>\n",
    "        <th>is</th>\n",
    "        <th>table</th>\n",
    "    </tr>\n",
    "    <tr>\n",
    "        <th>a</th>\n",
    "        <th>b</th>\n",
    "        <th>c</th>\n",
    "    </tr>\n",
    "    <tr>\n",
    "        <th>x</th>\n",
    "        <th>y</th>\n",
    "        <th>z</th>\n",
    "    </tr>\n",
    " </table> <br>\n",
    "<img src=\"https://iili.io/wYwMhu.jpg\" alt=\"this is my cat\">"
   ]
  },
  {
   "cell_type": "code",
   "execution_count": null,
   "id": "67d3cdfe",
   "metadata": {},
   "outputs": [],
   "source": []
  }
 ],
 "metadata": {
  "kernelspec": {
   "display_name": "Python 3 (ipykernel)",
   "language": "python",
   "name": "python3"
  },
  "language_info": {
   "codemirror_mode": {
    "name": "ipython",
    "version": 3
   },
   "file_extension": ".py",
   "mimetype": "text/x-python",
   "name": "python",
   "nbconvert_exporter": "python",
   "pygments_lexer": "ipython3",
   "version": "3.9.7"
  }
 },
 "nbformat": 4,
 "nbformat_minor": 5
}
